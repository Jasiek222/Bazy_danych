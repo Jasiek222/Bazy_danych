{
 "cells": [
  {
   "cell_type": "markdown",
   "id": "7459fdb1",
   "metadata": {},
   "source": [
    "Imię i nazwisko: Jan Szlagór\n",
    "\n",
    "Wydział: EAIiIB\n",
    "\n",
    "Kierunek: AiR\n",
    "\n",
    "Grupa: 1b\n",
    "\n",
    "Numer albumu: 402139"
   ]
  },
  {
   "cell_type": "code",
   "execution_count": 28,
   "id": "97edfa85",
   "metadata": {},
   "outputs": [],
   "source": [
    "# Zaimportowanie bibliotek: \n",
    "\n",
    "import numpy as np\n",
    "import pandas as pd\n",
    "import matplotlib.pyplot as plt"
   ]
  },
  {
   "cell_type": "markdown",
   "id": "e4536b12",
   "metadata": {},
   "source": [
    "Zadanie 1:"
   ]
  },
  {
   "cell_type": "code",
   "execution_count": 25,
   "id": "47378118",
   "metadata": {},
   "outputs": [
    {
     "data": {
      "image/png": "[encoded data removed]",
      "text/plain": [
       "<Figure size 432x288 with 1 Axes>"
      ]
     },
     "metadata": {
      "needs_background": "light"
     },
     "output_type": "display_data"
    }
   ],
   "source": [
    "# Zdefiniowanie funkcji:\n",
    "\n",
    "function = lambda x: x**2 + 5\n",
    "\n",
    "# Dla x>-1 i x<1\n",
    "\n",
    "x1 = np.arange(-1,1,0.001)\n",
    "y1 = function(x1)\n",
    "\n",
    "# Dla x>-6 i x<6\n",
    "\n",
    "x2 = np.arange(-6,6,0.001)\n",
    "y2 = function(x2)\n",
    "\n",
    "# Dla x>0 i x<5\n",
    "\n",
    "x3 = np.arange(0,5,0.001)\n",
    "y3 = function(x3)\n",
    "\n",
    "# Stworzenie wykresu:\n",
    "\n",
    "plt.figure()\n",
    "plt.plot(x2, y2, x1, y1, x3, y3)\n",
    "plt.grid('on')\n",
    "plt.title('f(x) = x^2 + 5')\n",
    "plt.legend(['x>-6 i x<6', 'x>-1 i x<1', 'x>0 i x<5'], loc=4)\n",
    "plt.show()"
   ]
  },
  {
   "cell_type": "markdown",
   "id": "53f853c6",
   "metadata": {},
   "source": [
    "Zadanie 2:"
   ]
  },
  {
   "cell_type": "code",
   "execution_count": 31,
   "id": "feb79731",
   "metadata": {},
   "outputs": [
    {
     "name": "stdout",
     "output_type": "stream",
     "text": [
      "       name    surname  age    sex\n",
      "0      Ania   Kowalski   23  fmale\n",
      "1     Zosia      Nowak   21  fmale\n",
      "2       Ala  Kudłaciak   23  fmale\n",
      "3   Mateusz       Mzyk   43   male\n",
      "4     Artur   Zagórski   33   male\n",
      "5  Krzysiek    Szlagor   12   male\n"
     ]
    }
   ],
   "source": [
    "# Stworzenie słownika: \n",
    "\n",
    "imie = ['Ania', 'Zosia', 'Ala', 'Mateusz', 'Artur', 'Krzysiek']\n",
    "nazwisko = ['Kowalski', 'Nowak', 'Kudłaciak', 'Mzyk', 'Zagórski', 'Szlagor']\n",
    "wiek = [23, 21, 23, 43, 33, 12]\n",
    "plec = ['fmale', 'fmale', 'fmale', 'male', 'male', 'male']\n",
    "d = {'name': imie, 'surname': nazwisko, 'age': wiek, 'sex': plec}\n",
    "\n",
    "# Stworzenie tabeli na bazie słownika: \n",
    "df = pd.DataFrame(data = d)\n",
    "\n",
    "print(df)"
   ]
  },
  {
   "cell_type": "code",
   "execution_count": 34,
   "id": "48008f36",
   "metadata": {},
   "outputs": [
    {
     "name": "stdout",
     "output_type": "stream",
     "text": [
      "<class 'pandas.core.frame.DataFrame'>\n",
      "RangeIndex: 6 entries, 0 to 5\n",
      "Data columns (total 4 columns):\n",
      " #   Column   Non-Null Count  Dtype \n",
      "---  ------   --------------  ----- \n",
      " 0   name     6 non-null      object\n",
      " 1   surname  6 non-null      object\n",
      " 2   age      6 non-null      int64 \n",
      " 3   sex      6 non-null      object\n",
      "dtypes: int64(1), object(3)\n",
      "memory usage: 320.0+ bytes\n"
     ]
    }
   ],
   "source": [
    "# Pozyskanie informacji o danych:\n",
    "\n",
    "df.info()"
   ]
  },
  {
   "cell_type": "code",
   "execution_count": 36,
   "id": "205c6d2e",
   "metadata": {},
   "outputs": [
    {
     "data": {
      "text/html": [
       "<div>\n",
       "<style scoped>\n",
       "    .dataframe tbody tr th:only-of-type {\n",
       "        vertical-align: middle;\n",
       "    }\n",
       "\n",
       "    .dataframe tbody tr th {\n",
       "        vertical-align: top;\n",
       "    }\n",
       "\n",
       "    .dataframe thead th {\n",
       "        text-align: right;\n",
       "    }\n",
       "</style>\n",
       "<table border=\"1\" class=\"dataframe\">\n",
       "  <thead>\n",
       "    <tr style=\"text-align: right;\">\n",
       "      <th></th>\n",
       "      <th>name</th>\n",
       "      <th>surname</th>\n",
       "      <th>age</th>\n",
       "      <th>sex</th>\n",
       "    </tr>\n",
       "  </thead>\n",
       "  <tbody>\n",
       "    <tr>\n",
       "      <th>count</th>\n",
       "      <td>6</td>\n",
       "      <td>6</td>\n",
       "      <td>6.000000</td>\n",
       "      <td>6</td>\n",
       "    </tr>\n",
       "    <tr>\n",
       "      <th>unique</th>\n",
       "      <td>6</td>\n",
       "      <td>6</td>\n",
       "      <td>NaN</td>\n",
       "      <td>2</td>\n",
       "    </tr>\n",
       "    <tr>\n",
       "      <th>top</th>\n",
       "      <td>Krzysiek</td>\n",
       "      <td>Kowalski</td>\n",
       "      <td>NaN</td>\n",
       "      <td>fmale</td>\n",
       "    </tr>\n",
       "    <tr>\n",
       "      <th>freq</th>\n",
       "      <td>1</td>\n",
       "      <td>1</td>\n",
       "      <td>NaN</td>\n",
       "      <td>3</td>\n",
       "    </tr>\n",
       "    <tr>\n",
       "      <th>mean</th>\n",
       "      <td>NaN</td>\n",
       "      <td>NaN</td>\n",
       "      <td>25.833333</td>\n",
       "      <td>NaN</td>\n",
       "    </tr>\n",
       "    <tr>\n",
       "      <th>std</th>\n",
       "      <td>NaN</td>\n",
       "      <td>NaN</td>\n",
       "      <td>10.740888</td>\n",
       "      <td>NaN</td>\n",
       "    </tr>\n",
       "    <tr>\n",
       "      <th>min</th>\n",
       "      <td>NaN</td>\n",
       "      <td>NaN</td>\n",
       "      <td>12.000000</td>\n",
       "      <td>NaN</td>\n",
       "    </tr>\n",
       "    <tr>\n",
       "      <th>25%</th>\n",
       "      <td>NaN</td>\n",
       "      <td>NaN</td>\n",
       "      <td>21.500000</td>\n",
       "      <td>NaN</td>\n",
       "    </tr>\n",
       "    <tr>\n",
       "      <th>50%</th>\n",
       "      <td>NaN</td>\n",
       "      <td>NaN</td>\n",
       "      <td>23.000000</td>\n",
       "      <td>NaN</td>\n",
       "    </tr>\n",
       "    <tr>\n",
       "      <th>75%</th>\n",
       "      <td>NaN</td>\n",
       "      <td>NaN</td>\n",
       "      <td>30.500000</td>\n",
       "      <td>NaN</td>\n",
       "    </tr>\n",
       "    <tr>\n",
       "      <th>max</th>\n",
       "      <td>NaN</td>\n",
       "      <td>NaN</td>\n",
       "      <td>43.000000</td>\n",
       "      <td>NaN</td>\n",
       "    </tr>\n",
       "  </tbody>\n",
       "</table>\n",
       "</div>"
      ],
      "text/plain": [
       "            name   surname        age    sex\n",
       "count          6         6   6.000000      6\n",
       "unique         6         6        NaN      2\n",
       "top     Krzysiek  Kowalski        NaN  fmale\n",
       "freq           1         1        NaN      3\n",
       "mean         NaN       NaN  25.833333    NaN\n",
       "std          NaN       NaN  10.740888    NaN\n",
       "min          NaN       NaN  12.000000    NaN\n",
       "25%          NaN       NaN  21.500000    NaN\n",
       "50%          NaN       NaN  23.000000    NaN\n",
       "75%          NaN       NaN  30.500000    NaN\n",
       "max          NaN       NaN  43.000000    NaN"
      ]
     },
     "execution_count": 36,
     "metadata": {},
     "output_type": "execute_result"
    }
   ],
   "source": [
    "# Wyświetlenie opisu danych (kożystam z parametru include='all do wyświetlenia opisu wszystkich danych')\n",
    "\n",
    "df.describe(include='all')"
   ]
  },
  {
   "cell_type": "code",
   "execution_count": 37,
   "id": "b0c906a5",
   "metadata": {},
   "outputs": [
    {
     "data": {
      "text/html": [
       "<div>\n",
       "<style scoped>\n",
       "    .dataframe tbody tr th:only-of-type {\n",
       "        vertical-align: middle;\n",
       "    }\n",
       "\n",
       "    .dataframe tbody tr th {\n",
       "        vertical-align: top;\n",
       "    }\n",
       "\n",
       "    .dataframe thead th {\n",
       "        text-align: right;\n",
       "    }\n",
       "</style>\n",
       "<table border=\"1\" class=\"dataframe\">\n",
       "  <thead>\n",
       "    <tr style=\"text-align: right;\">\n",
       "      <th></th>\n",
       "      <th>name</th>\n",
       "      <th>surname</th>\n",
       "      <th>age</th>\n",
       "      <th>sex</th>\n",
       "    </tr>\n",
       "  </thead>\n",
       "  <tbody>\n",
       "    <tr>\n",
       "      <th>0</th>\n",
       "      <td>Ania</td>\n",
       "      <td>Kowalski</td>\n",
       "      <td>23</td>\n",
       "      <td>fmale</td>\n",
       "    </tr>\n",
       "    <tr>\n",
       "      <th>1</th>\n",
       "      <td>Zosia</td>\n",
       "      <td>Nowak</td>\n",
       "      <td>21</td>\n",
       "      <td>fmale</td>\n",
       "    </tr>\n",
       "    <tr>\n",
       "      <th>2</th>\n",
       "      <td>Ala</td>\n",
       "      <td>Kudłaciak</td>\n",
       "      <td>23</td>\n",
       "      <td>fmale</td>\n",
       "    </tr>\n",
       "  </tbody>\n",
       "</table>\n",
       "</div>"
      ],
      "text/plain": [
       "    name    surname  age    sex\n",
       "0   Ania   Kowalski   23  fmale\n",
       "1  Zosia      Nowak   21  fmale\n",
       "2    Ala  Kudłaciak   23  fmale"
      ]
     },
     "execution_count": 37,
     "metadata": {},
     "output_type": "execute_result"
    }
   ],
   "source": [
    "# Wyświetlenie trzech pierwszych rekordów tabeli:\n",
    "\n",
    "df.head(3)"
   ]
  }
 ],
 "metadata": {
  "kernelspec": {
   "display_name": "Python 3",
   "language": "python",
   "name": "python3"
  },
  "language_info": {
   "codemirror_mode": {
    "name": "ipython",
    "version": 3
   },
   "file_extension": ".py",
   "mimetype": "text/x-python",
   "name": "python",
   "nbconvert_exporter": "python",
   "pygments_lexer": "ipython3",
   "version": "3.9.4"
  }
 },
 "nbformat": 4,
 "nbformat_minor": 5
}
